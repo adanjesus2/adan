{
  "nbformat": 4,
  "nbformat_minor": 0,
  "metadata": {
    "colab": {
      "provenance": [],
      "authorship_tag": "ABX9TyPrYYOXgIR1Eru9uN0VanyQ",
      "include_colab_link": true
    },
    "kernelspec": {
      "name": "python3",
      "display_name": "Python 3"
    },
    "language_info": {
      "name": "python"
    }
  },
  "cells": [
    {
      "cell_type": "markdown",
      "metadata": {
        "id": "view-in-github",
        "colab_type": "text"
      },
      "source": [
        "<a href=\"https://colab.research.google.com/github/adanjesus2/adan/blob/main/untitled0.ipynb\" target=\"_parent\"><img src=\"https://colab.research.google.com/assets/colab-badge.svg\" alt=\"Open In Colab\"/></a>"
      ]
    },
    {
      "cell_type": "code",
      "execution_count": null,
      "metadata": {
        "id": "SnyAPFBsDdtr"
      },
      "outputs": [],
      "source": []
    },
    {
      "cell_type": "markdown",
      "source": [
        "**Lengusje y Algoritmo**\n",
        "Lenguaje de programacion:\n",
        "\n",
        "* C\n",
        "* c++\n",
        "* Java\n",
        "* Fortran\n",
        "* Delphi\n",
        "\n",
        "**Algoritmo**\n",
        "\n",
        "conjunto de pasos , procedimientos o acciones que nos permiten alcanzar un resultasdo o resolver un problrma.\n",
        "\n",
        "\n",
        "Caracteristicas:\n",
        "\n",
        "\n",
        "Determinismo.\n",
        "Presicion.\n",
        "Finitud.\n",
        "\n",
        "\n",
        "\n",
        "(cairó et al., 1993)\n",
        "\n",
        "**Datos**\n",
        "\n",
        "Valores enteros y valores reales.\n",
        "Valores enteros pueden estar procedidos por los signos (+  - )\n",
        "\n",
        "128  152s -714 8 530 -14 789\n",
        "7.5  128.0  -37.865  129.7    16000.50\n",
        "\n",
        "**Datos Alfanumericos**\n",
        "*caracter\n",
        "*Cadena\n",
        "\n",
        "\n",
        "(a,b,c...z)\n",
        "(0.1.2.3...9)\n",
        "(#,? ,$, %, *, etc)\n",
        "\n",
        "'a' 'B'  ' $' '9'\n",
        "\n",
        "\"abc\"   \"$9#7\"  \"Heeeectoooor\"  \"patroclo!!!\"  \"754-27-22\"\n",
        "\n",
        "\n",
        "**Datos Lógicos**\n",
        "booleanos\n",
        "Verdadero (true)\n",
        "Falso      (false)\n",
        "*\n",
        "\n"
      ],
      "metadata": {
        "id": "i3T3TI9lDhLp"
      }
    },
    {
      "cell_type": "code",
      "source": [
        "#tipos de variables en python\n",
        "#El tipo de variable estará determinado por el tipo de dato que almacena\n",
        "#Entero: vasta agregar un valor entero.\n",
        "\n",
        "a=10\n",
        "b=11\n",
        "c=a+b\n",
        "print(c)\n",
        "\n",
        "\n",
        "#Decimales : deben agregarse un número con punto flotante\n",
        "c=3.1416\n",
        "print(c)\n",
        "\n",
        "#Booleanos: Datos con verdadero y false\n",
        "#Se pueden usar palabras: True False\n",
        "\n",
        "Verdad = 1\n",
        "Falso = 0\n",
        "\n",
        "#Texto o cadena string\n",
        "saludo = \"Hola Mudo\"\n",
        "nombre = \"Juan\"\n",
        "\n",
        "uno = \"a\"\n",
        "dos = \"b\"\n",
        "\n"
      ],
      "metadata": {
        "colab": {
          "base_uri": "https://localhost:8080/"
        },
        "id": "OvLg-AqRLwzg",
        "outputId": "bce53e16-31c7-490f-d2c7-5f39b94b2153"
      },
      "execution_count": null,
      "outputs": [
        {
          "output_type": "stream",
          "name": "stdout",
          "text": [
            "21\n",
            "3.1416\n"
          ]
        }
      ]
    },
    {
      "cell_type": "code",
      "source": [],
      "metadata": {
        "id": "qd-uoCnLPh47"
      },
      "execution_count": null,
      "outputs": []
    }
  ]
}